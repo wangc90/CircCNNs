{
 "cells": [
  {
   "cell_type": "code",
   "execution_count": 1,
   "id": "64ac1600",
   "metadata": {},
   "outputs": [
    {
     "data": {
      "text/plain": [
       "<torch._C.Generator at 0x7fa998262c30>"
      ]
     },
     "execution_count": 1,
     "metadata": {},
     "output_type": "execute_result"
    }
   ],
   "source": [
    "import torch\n",
    "import torch.optim as optim\n",
    "from torch.utils.data import Dataset, DataLoader, SubsetRandomSampler, random_split\n",
    "import pandas as pd\n",
    "import numpy as np\n",
    "import os\n",
    "import random\n",
    "from collections import defaultdict, Counter\n",
    "from itertools import combinations\n",
    "import json\n",
    "import torch.nn as nn\n",
    "import torch.nn.functional as F\n",
    "from sklearn.model_selection import KFold\n",
    "import optuna\n",
    "from torchmetrics.classification import F1Score\n",
    "import pickle\n",
    "\n",
    "import sys\n",
    "### import Dataset prepartion and model training classes from Auxiliary_Codes folder\n",
    "from BS_LS_DataSet_3 import BS_LS_DataSet_Prep, BS_LS_upper_lower_rcm, BS_LS_upper_lower_concat_rcm, RCM_Score\n",
    "from pre_trained_model_structure import *"
   ]
  },
  {
   "cell_type": "markdown",
   "id": "6fa667f1",
   "metadata": {},
   "source": [
    "### model evaluation function"
   ]
  },
  {
   "cell_type": "code",
   "execution_count": 2,
   "id": "631b6563",
   "metadata": {},
   "outputs": [],
   "source": [
    "def Model_eva(model_path, test_data_set):\n",
    "    \n",
    "    '''\n",
    "    ### load the saved best model and do the evaluation on the independent test dataset\n",
    "\n",
    "    '''\n",
    "    saved_model = torch.load(model_path).to('cuda')\n",
    "\n",
    "    saved_model.eval()\n",
    "\n",
    "    # test_data_set = torch.utils.data.Subset(BS_LS_test_dataset)\n",
    "\n",
    "    data_loader = DataLoader(test_data_set, batch_size=100)\n",
    "\n",
    "    with torch.no_grad():\n",
    "\n",
    "        all_test_labels = []\n",
    "        all_preds_prob = []\n",
    "\n",
    "        correct, total = 0.0, 0.0\n",
    "        for *test_features, test_labels in data_loader:\n",
    "            #### change it to cuda:1 when evaluation for rcm models\n",
    "            test_labels = test_labels.type(torch.LongTensor).to('cuda')\n",
    "            test_features = [i.to('cuda') for i in test_features]\n",
    "\n",
    "            preds = saved_model(*test_features)\n",
    "            ## get the predited probability\n",
    "            preds_prob = F.softmax(preds, dim=1)[:, 1]\n",
    "\n",
    "            _, preds_labels = torch.max(preds, 1)\n",
    "            \n",
    "            correct += (preds_labels == test_labels).sum().item()\n",
    "            total += test_labels.shape[0]\n",
    "\n",
    "            all_test_labels.extend(test_labels.cpu().numpy().tolist())\n",
    "            all_preds_prob.extend(preds_prob.cpu().numpy().tolist())\n",
    "\n",
    "        val_acc = round(correct / total, 4)\n",
    "\n",
    "        print(val_acc)\n",
    "        \n",
    "    return torch.from_numpy(np.array(all_test_labels)), torch.from_numpy(np.array(all_preds_prob))"
   ]
  },
  {
   "cell_type": "markdown",
   "id": "2aac6d18",
   "metadata": {},
   "source": [
    "### Model evaluation on retrained base model 2 on different training sets"
   ]
  },
  {
   "cell_type": "code",
   "execution_count": 3,
   "id": "b7f44bd9",
   "metadata": {},
   "outputs": [
    {
     "name": "stdout",
     "output_type": "stream",
     "text": [
      "chr5|138837130|138837392|- has N in the extracted junctions, belongs to BS\n",
      "There are 0 overlapped flanking sequence from BS and LS  \n",
      "There are 7 repeated BS sequences\n",
      "There are 2 repeated LS sequences\n"
     ]
    }
   ],
   "source": [
    "BS_LS_coordinates_path = '/home/wangc90/circRNA/circRNA_Data/BS_LS_data/updated_data/BS_LS_coordinates_final.csv'\n",
    "hg19_seq_dict_json_path = '/home/wangc90/circRNA/circRNA_Data/hg19_seq/hg19_seq_dict.json'\n",
    "flanking_dict_folder = '/home/wangc90/circRNA/circRNA_Data/BS_LS_data/flanking_dicts/'\n",
    "bs_ls_dataset = BS_LS_DataSet_Prep(BS_LS_coordinates_path=BS_LS_coordinates_path,\n",
    "                               hg19_seq_dict_json_path=hg19_seq_dict_json_path,\n",
    "                               flanking_dict_folder=flanking_dict_folder,\n",
    "                               flanking_junction_bps=100,\n",
    "                               flanking_intron_bps=5000,\n",
    "                               training_size=8000)\n",
    "\n",
    "### generate the junction and flanking intron dict\n",
    "bs_ls_dataset.get_junction_flanking_intron_seq()\n",
    "\n",
    "### get the testing keys\n",
    "_, _, test_keys = bs_ls_dataset.get_train_test_keys()\n",
    "\n",
    "rcm_scores_folder = '/home/wangc90/circRNA/circRNA_Data/BS_LS_data/flanking_dicts/rcm_scores/'\n",
    "\n",
    "train_torch_upper_features, train_torch_lower_features, _, _,\\\n",
    "_, train_torch_labels = bs_ls_dataset.seq_to_tensor(data_keys=test_keys,\n",
    "                                                    rcm_folder=rcm_scores_folder,\n",
    "                                                    is_rcm=True, \n",
    "                                                    is_upper_lower_concat=False)\n",
    "\n",
    "BS_LS_dataset_base2 = BS_LS_upper_lower_rcm(include_rcm=False,\n",
    "                                      seq_upper_feature=train_torch_upper_features,\n",
    "                                      seq_lower_feature=train_torch_lower_features,\n",
    "                                      flanking_rcm=None,\n",
    "                                      upper_rcm=None,\n",
    "                                      lower_rcm=None,\n",
    "                                      label=train_torch_labels)"
   ]
  },
  {
   "cell_type": "markdown",
   "id": "67dcfc38",
   "metadata": {},
   "source": [
    "#### bring in the model weights for optimized base model 2 on training set1, 2 and 3"
   ]
  },
  {
   "cell_type": "code",
   "execution_count": 4,
   "id": "2c3260b8",
   "metadata": {},
   "outputs": [
    {
     "name": "stdout",
     "output_type": "stream",
     "text": [
      "0.8714\n"
     ]
    }
   ],
   "source": [
    "base_model2_8000_path = \"/home/wangc90/circRNA/circRNA_Data/model_outputs/Base_model2_retraining/Base_model2_retraining_8000/retrained_model_119.pt\"\n",
    "base_model2_8000_test_labels, base_model2_8000_preds_prob = Model_eva(model_path=base_model2_8000_path,\\\n",
    "                                                  test_data_set=BS_LS_dataset_base2)"
   ]
  },
  {
   "cell_type": "code",
   "execution_count": 5,
   "id": "0b2e0584",
   "metadata": {},
   "outputs": [
    {
     "name": "stdout",
     "output_type": "stream",
     "text": [
      "0.875\n"
     ]
    }
   ],
   "source": [
    "base_model2_9000_path = \"/home/wangc90/circRNA/circRNA_Data/model_outputs/Base_model2_retraining/Base_model2_retraining_9000/retrained_model_89.pt\"\n",
    "base_model2_9000_test_labels, base_model2_9000_preds_prob = Model_eva(model_path=base_model2_9000_path,\\\n",
    "                                                  test_data_set=BS_LS_dataset_base2)"
   ]
  },
  {
   "cell_type": "code",
   "execution_count": 6,
   "id": "5d95c292",
   "metadata": {},
   "outputs": [
    {
     "name": "stdout",
     "output_type": "stream",
     "text": [
      "0.8709\n"
     ]
    }
   ],
   "source": [
    "base_model2_10000_path = \"/home/wangc90/circRNA/circRNA_Data/model_outputs/Base_model2_retraining/Base_model2_retraining_10000/retrained_model_149.pt\"\n",
    "base_model2_10000_test_labels, base_model2_10000_preds_prob = Model_eva(model_path=base_model2_10000_path,\\\n",
    "                                                  test_data_set=BS_LS_dataset_base2)"
   ]
  },
  {
   "cell_type": "markdown",
   "id": "93f42117",
   "metadata": {},
   "source": [
    "### Model evaluation on retrained base model 1 with different training sets"
   ]
  },
  {
   "cell_type": "code",
   "execution_count": 7,
   "id": "fbe6d921",
   "metadata": {},
   "outputs": [
    {
     "name": "stdout",
     "output_type": "stream",
     "text": [
      "chr5|138837130|138837392|- has N in the extracted junctions, belongs to BS\n",
      "There are 0 overlapped flanking sequence from BS and LS  \n",
      "There are 7 repeated BS sequences\n",
      "There are 2 repeated LS sequences\n",
      "2216\n"
     ]
    }
   ],
   "source": [
    "BS_LS_coordinates_path = '/home/wangc90/circRNA/circRNA_Data/BS_LS_data/updated_data/BS_LS_coordinates_final.csv'\n",
    "hg19_seq_dict_json_path = '/home/wangc90/circRNA/circRNA_Data/hg19_seq/hg19_seq_dict.json'\n",
    "flanking_dict_folder = '/home/wangc90/circRNA/circRNA_Data/BS_LS_data/flanking_dicts/'\n",
    "bs_ls_dataset = BS_LS_DataSet_Prep(BS_LS_coordinates_path=BS_LS_coordinates_path,\n",
    "                                   hg19_seq_dict_json_path=hg19_seq_dict_json_path,\n",
    "                                   flanking_dict_folder=flanking_dict_folder,\n",
    "                                   flanking_junction_bps=100,\n",
    "                                   flanking_intron_bps=100,\n",
    "                                   training_size=8000)\n",
    "\n",
    "### generate the junction and flanking intron dict\n",
    "bs_ls_dataset.get_junction_flanking_intron_seq()\n",
    "\n",
    "_, _, test_keys = bs_ls_dataset.get_train_test_keys()\n",
    "\n",
    "rcm_scores_folder = '/home/wangc90/circRNA/circRNA_Data/BS_LS_data/flanking_dicts/rcm_scores/'\n",
    "\n",
    "train_torch_upper_lower_features, _, _, _, train_torch_labels = bs_ls_dataset.seq_to_tensor(data_keys=test_keys,\n",
    "                                                                                   rcm_folder=rcm_scores_folder,\n",
    "                                                                                   is_rcm=True,\n",
    "                                                                                   is_upper_lower_concat=True)\n",
    "\n",
    "BS_LS_dataset_base1 = BS_LS_upper_lower_concat_rcm(include_rcm=False,\n",
    "                                      seq_upper_lower_feature=train_torch_upper_lower_features,\n",
    "                                      flanking_rcm=None,\n",
    "                                      upper_rcm=None,\n",
    "                                      lower_rcm=None,\n",
    "                                      label=train_torch_labels)\n",
    "print(len(BS_LS_dataset_base1))"
   ]
  },
  {
   "cell_type": "markdown",
   "id": "f11aa4ba",
   "metadata": {},
   "source": [
    "#### bring in the model weights for optimized base model 1 on training set1, 2 and 3"
   ]
  },
  {
   "cell_type": "code",
   "execution_count": 8,
   "id": "e60a5f56",
   "metadata": {},
   "outputs": [
    {
     "name": "stdout",
     "output_type": "stream",
     "text": [
      "0.8718\n"
     ]
    }
   ],
   "source": [
    "base_model1_8000_path = \"/home/wangc90/circRNA/circRNA_Data/model_outputs/Base_model1_retraining/Base_model1_retraining_8000/retrained_model_149.pt\"\n",
    "base_model1_8000_test_labels, base_model1_8000_preds_prob = Model_eva(model_path=base_model1_8000_path,\\\n",
    "                                                  test_data_set=BS_LS_dataset_base1)"
   ]
  },
  {
   "cell_type": "code",
   "execution_count": 9,
   "id": "bcb8c7cd",
   "metadata": {},
   "outputs": [
    {
     "name": "stdout",
     "output_type": "stream",
     "text": [
      "0.8678\n"
     ]
    }
   ],
   "source": [
    "base_model1_9000_path = \"/home/wangc90/circRNA/circRNA_Data/model_outputs/Base_model1_retraining/Base_model1_retraining_9000/retrained_model_149.pt\"\n",
    "base_model1_9000_test_labels, base_model1_9000_preds_prob = Model_eva(model_path=base_model1_9000_path,\\\n",
    "                                                  test_data_set=BS_LS_dataset_base1)"
   ]
  },
  {
   "cell_type": "code",
   "execution_count": 10,
   "id": "2536df3c",
   "metadata": {},
   "outputs": [
    {
     "name": "stdout",
     "output_type": "stream",
     "text": [
      "0.8673\n"
     ]
    }
   ],
   "source": [
    "base_model1_10000_path = \"/home/wangc90/circRNA/circRNA_Data/model_outputs/Base_model1_retraining/Base_model1_retraining_10000/retrained_model_149.pt\"\n",
    "base_model1_10000_test_labels, base_model1_10000_preds_prob = Model_eva(model_path=base_model1_10000_path,\\\n",
    "                                                  test_data_set=BS_LS_dataset_base1)"
   ]
  },
  {
   "cell_type": "markdown",
   "id": "16885de1",
   "metadata": {},
   "source": [
    "### Model evaluation on retrained RCM_triCNN model with different training sets"
   ]
  },
  {
   "cell_type": "code",
   "execution_count": 11,
   "id": "24906e42",
   "metadata": {},
   "outputs": [
    {
     "name": "stdout",
     "output_type": "stream",
     "text": [
      "chr5|138837130|138837392|- has N in the extracted junctions, belongs to BS\n",
      "There are 0 overlapped flanking sequence from BS and LS  \n",
      "There are 7 repeated BS sequences\n",
      "There are 2 repeated LS sequences\n"
     ]
    },
    {
     "data": {
      "text/plain": [
       "2216"
      ]
     },
     "execution_count": 11,
     "metadata": {},
     "output_type": "execute_result"
    }
   ],
   "source": [
    "BS_LS_coordinates_path = '/home/wangc90/circRNA/circRNA_Data/BS_LS_data/updated_data/BS_LS_coordinates_final.csv'\n",
    "hg19_seq_dict_json_path = '/home/wangc90/circRNA/circRNA_Data/hg19_seq/hg19_seq_dict.json'\n",
    "flanking_dict_folder = '/home/wangc90/circRNA/circRNA_Data/BS_LS_data/flanking_dicts/'\n",
    "\n",
    "bs_ls_dataset = BS_LS_DataSet_Prep(BS_LS_coordinates_path=BS_LS_coordinates_path,\n",
    "                                   hg19_seq_dict_json_path=hg19_seq_dict_json_path,\n",
    "                                   flanking_dict_folder=flanking_dict_folder,\n",
    "                                   flanking_junction_bps=100,\n",
    "                                   flanking_intron_bps=100,\n",
    "                                   training_size=8000)\n",
    "\n",
    "### generate the junction and flanking intron dict\n",
    "bs_ls_dataset.get_junction_flanking_intron_seq()\n",
    "\n",
    "_, _, test_keys = bs_ls_dataset.get_train_test_keys()\n",
    "\n",
    "\n",
    "rcm_scores_folder = '/home/wangc90/circRNA/circRNA_Data/BS_LS_data/flanking_dicts/rcm_scores/'\n",
    "\n",
    "_, _, train_torch_flanking_rcm, train_torch_upper_rcm, train_torch_lower_rcm, \\\n",
    "    train_torch_labels = bs_ls_dataset.seq_to_tensor(data_keys=test_keys,\\\n",
    "                                                     rcm_folder=rcm_scores_folder,\\\n",
    "                                                     is_rcm=True, is_upper_lower_concat=False)\n",
    "\n",
    "RCM_kmer_Score_dataset = RCM_Score(flanking_only=False,\n",
    "                                   flanking_rcm=train_torch_flanking_rcm,\\\n",
    "                                   upper_rcm=train_torch_upper_rcm,\\\n",
    "                                   lower_rcm=train_torch_lower_rcm,\\\n",
    "                                   label=train_torch_labels)\n",
    "\n",
    "len(RCM_kmer_Score_dataset)"
   ]
  },
  {
   "cell_type": "code",
   "execution_count": 12,
   "id": "85cba28a",
   "metadata": {},
   "outputs": [
    {
     "data": {
      "text/plain": [
       "torch.Size([5, 250])"
      ]
     },
     "execution_count": 12,
     "metadata": {},
     "output_type": "execute_result"
    }
   ],
   "source": [
    "RCM_kmer_Score_dataset[0][0].shape"
   ]
  },
  {
   "cell_type": "markdown",
   "id": "23f2d136",
   "metadata": {},
   "source": [
    "#### bring in the model weights for optimized RCM_triCNN model on training set1, 2 and 3"
   ]
  },
  {
   "cell_type": "code",
   "execution_count": 13,
   "id": "291c4c12",
   "metadata": {},
   "outputs": [
    {
     "name": "stdout",
     "output_type": "stream",
     "text": [
      "0.6697\n"
     ]
    }
   ],
   "source": [
    "RCM_TriCNN_8000_model_path = \"/home/wangc90/circRNA/circRNA_Data/model_outputs/RCM_triCNN_retraining/RCM_triCNN_retraining_8000/retrained_model_89.pt\"\n",
    "RCM_TriCNN_8000_test_labels, RCM_TriCNN_8000_preds_prob = Model_eva(model_path=RCM_TriCNN_8000_model_path,\n",
    "                                                                    test_data_set=RCM_kmer_Score_dataset)"
   ]
  },
  {
   "cell_type": "code",
   "execution_count": 14,
   "id": "286a8959",
   "metadata": {},
   "outputs": [
    {
     "name": "stdout",
     "output_type": "stream",
     "text": [
      "0.6873\n"
     ]
    }
   ],
   "source": [
    "RCM_TriCNN_9000_model_path = \"/home/wangc90/circRNA/circRNA_Data/model_outputs/RCM_triCNN_retraining/RCM_triCNN_retraining_9000/retrained_model_29.pt\"\n",
    "RCM_TriCNN_9000_test_labels, RCM_TriCNN_9000_preds_prob = Model_eva(model_path=RCM_TriCNN_9000_model_path,\n",
    "                                                                    test_data_set=RCM_kmer_Score_dataset)"
   ]
  },
  {
   "cell_type": "code",
   "execution_count": 15,
   "id": "e505587b",
   "metadata": {},
   "outputs": [
    {
     "name": "stdout",
     "output_type": "stream",
     "text": [
      "0.6958\n"
     ]
    }
   ],
   "source": [
    "RCM_TriCNN_10000_model_path = \"/home/wangc90/circRNA/circRNA_Data/model_outputs/RCM_triCNN_retraining/RCM_triCNN_retraining_10000/retrained_model_149.pt\"\n",
    "RCM_TriCNN_10000_test_labels, RCM_TriCNN_10000_preds_prob = Model_eva(model_path=RCM_TriCNN_10000_model_path,\n",
    "                                                                    test_data_set=RCM_kmer_Score_dataset)"
   ]
  },
  {
   "cell_type": "code",
   "execution_count": null,
   "id": "9d0b84d6",
   "metadata": {},
   "outputs": [],
   "source": []
  },
  {
   "cell_type": "markdown",
   "id": "2bcc3f56",
   "metadata": {},
   "source": [
    "### Model evaluation on retrained combined base model 2 with different combining sets"
   ]
  },
  {
   "cell_type": "code",
   "execution_count": 16,
   "id": "fd1bbc23",
   "metadata": {},
   "outputs": [
    {
     "name": "stdout",
     "output_type": "stream",
     "text": [
      "chr5|138837130|138837392|- has N in the extracted junctions, belongs to BS\n",
      "There are 0 overlapped flanking sequence from BS and LS  \n",
      "There are 7 repeated BS sequences\n",
      "There are 2 repeated LS sequences\n",
      "2216\n"
     ]
    }
   ],
   "source": [
    "## These need to be changed for redhawks\n",
    "BS_LS_coordinates_path = '/home/wangc90/circRNA/circRNA_Data/BS_LS_data/updated_data/BS_LS_coordinates_final.csv'\n",
    "hg19_seq_dict_json_path = '/home/wangc90/circRNA/circRNA_Data/hg19_seq/hg19_seq_dict.json'\n",
    "flanking_dict_folder = '/home/wangc90/circRNA/circRNA_Data/BS_LS_data/flanking_dicts/'\n",
    "bs_ls_dataset = BS_LS_DataSet_Prep(BS_LS_coordinates_path=BS_LS_coordinates_path,\n",
    "                           hg19_seq_dict_json_path=hg19_seq_dict_json_path,\n",
    "                           flanking_dict_folder=flanking_dict_folder,\n",
    "                           flanking_junction_bps=100,\n",
    "                           flanking_intron_bps=5000,\n",
    "                           training_size=8000)\n",
    "\n",
    "\n",
    "## generate the junction and flanking intron dict\n",
    "bs_ls_dataset.get_junction_flanking_intron_seq()\n",
    "\n",
    "_, _, test_keys = bs_ls_dataset.get_train_test_keys()\n",
    "\n",
    "rcm_scores_folder = '/home/wangc90/circRNA/circRNA_Data/BS_LS_data/flanking_dicts/rcm_scores/'\n",
    "# try without rcm features\n",
    "train_torch_upper_features, train_torch_lower_features, train_torch_flanking_rcm, train_torch_upper_rcm,\\\n",
    "train_torch_lower_rcm, train_torch_labels = bs_ls_dataset.seq_to_tensor(data_keys=test_keys,\n",
    "                                                                        rcm_folder=rcm_scores_folder,\n",
    "                                                                        is_rcm=True, \n",
    "                                                                        is_upper_lower_concat=False)\n",
    "\n",
    "BS_LS_dataset_base2_combined = BS_LS_upper_lower_rcm(include_rcm=True,\n",
    "                                      seq_upper_feature=train_torch_upper_features,\n",
    "                                      seq_lower_feature=train_torch_lower_features,\n",
    "                                      flanking_rcm=train_torch_flanking_rcm,\n",
    "                                      upper_rcm=train_torch_upper_rcm,\n",
    "                                      lower_rcm=train_torch_lower_rcm,\n",
    "                                      label=train_torch_labels)\n",
    "\n",
    "\n",
    "\n",
    "print(len(BS_LS_dataset_base2_combined))\n"
   ]
  },
  {
   "cell_type": "markdown",
   "id": "760ef97a",
   "metadata": {},
   "source": [
    "#### bring in the model weights for base2 combined model on combining set1, 2 and 3"
   ]
  },
  {
   "cell_type": "code",
   "execution_count": 17,
   "id": "a3a191ba",
   "metadata": {},
   "outputs": [
    {
     "name": "stdout",
     "output_type": "stream",
     "text": [
      "0.8764\n"
     ]
    }
   ],
   "source": [
    "base_model2_combined_8000_path = '/home/wangc90/circRNA/circRNA_Data/model_outputs/Combined_model2_retraining/Combined_model2_retraining_8000/retrained_model_89.pt'\n",
    "\n",
    "base_model2_combined_8000_test_labels, base_model2_combined_8000_preds_prob = Model_eva(model_path=base_model2_combined_8000_path,\n",
    "                                                                    test_data_set=BS_LS_dataset_base2_combined)"
   ]
  },
  {
   "cell_type": "code",
   "execution_count": 18,
   "id": "832d5765",
   "metadata": {},
   "outputs": [
    {
     "name": "stdout",
     "output_type": "stream",
     "text": [
      "0.8813\n"
     ]
    }
   ],
   "source": [
    "base_model2_combined_9000_path = '/home/wangc90/circRNA/circRNA_Data/model_outputs/Combined_model2_retraining/Combined_model2_retraining_9000/retrained_model_59.pt'\n",
    "\n",
    "base_model2_combined_9000_test_labels, base_model2_combined_9000_preds_prob = Model_eva(model_path=base_model2_combined_9000_path,\n",
    "                                                                    test_data_set=BS_LS_dataset_base2_combined)"
   ]
  },
  {
   "cell_type": "code",
   "execution_count": 19,
   "id": "1d9ba832",
   "metadata": {},
   "outputs": [
    {
     "name": "stdout",
     "output_type": "stream",
     "text": [
      "0.8745\n"
     ]
    }
   ],
   "source": [
    "base_model2_combined_10000_path = '/home/wangc90/circRNA/circRNA_Data/model_outputs/Combined_model2_retraining/Combined_model2_retraining_10000/retrained_model_89.pt'\n",
    "\n",
    "base_model2_combined_10000_test_labels, base_model2_combined_10000_preds_prob = Model_eva(model_path=base_model2_combined_10000_path,\n",
    "                                                                    test_data_set=BS_LS_dataset_base2_combined)"
   ]
  },
  {
   "cell_type": "markdown",
   "id": "a183ec1a",
   "metadata": {},
   "source": [
    "### Model evaluation on retrained combined base model 1 with different combining sets"
   ]
  },
  {
   "cell_type": "code",
   "execution_count": 20,
   "id": "897c478d",
   "metadata": {},
   "outputs": [
    {
     "name": "stdout",
     "output_type": "stream",
     "text": [
      "chr5|138837130|138837392|- has N in the extracted junctions, belongs to BS\n",
      "There are 0 overlapped flanking sequence from BS and LS  \n",
      "There are 7 repeated BS sequences\n",
      "There are 2 repeated LS sequences\n",
      "2216\n"
     ]
    }
   ],
   "source": [
    "BS_LS_coordinates_path = '/home/wangc90/circRNA/circRNA_Data/BS_LS_data/updated_data/BS_LS_coordinates_final.csv'\n",
    "hg19_seq_dict_json_path = '/home/wangc90/circRNA/circRNA_Data/hg19_seq/hg19_seq_dict.json'\n",
    "flanking_dict_folder = '/home/wangc90/circRNA/circRNA_Data/BS_LS_data/flanking_dicts/'\n",
    "bs_ls_dataset = BS_LS_DataSet_Prep(BS_LS_coordinates_path=BS_LS_coordinates_path,\n",
    "                           hg19_seq_dict_json_path=hg19_seq_dict_json_path,\n",
    "                           flanking_dict_folder=flanking_dict_folder,\n",
    "                           flanking_junction_bps=100,\n",
    "                           flanking_intron_bps=5000,\n",
    "                           training_size=9000)\n",
    "\n",
    "\n",
    "## generate the junction and flanking intron dict\n",
    "bs_ls_dataset.get_junction_flanking_intron_seq()\n",
    "\n",
    "_, _, test_keys = bs_ls_dataset.get_train_test_keys()\n",
    "\n",
    "rcm_scores_folder = '/home/wangc90/circRNA/circRNA_Data/BS_LS_data/flanking_dicts/rcm_scores/'\n",
    "# try without rcm features\n",
    "train_torch_upper_lower_features, train_torch_flanking_rcm, train_torch_upper_rcm,\\\n",
    "train_torch_lower_rcm, train_torch_labels = bs_ls_dataset.seq_to_tensor(data_keys=test_keys,\n",
    "                                                                        rcm_folder=rcm_scores_folder,\n",
    "                                                                        is_rcm=True, \n",
    "                                                                        is_upper_lower_concat=True)\n",
    "\n",
    "BS_LS_dataset_base1_combined = BS_LS_upper_lower_concat_rcm(include_rcm=True,\n",
    "                                      seq_upper_lower_feature=train_torch_upper_lower_features,\n",
    "                                      flanking_rcm=train_torch_flanking_rcm,\n",
    "                                      upper_rcm=train_torch_upper_rcm,\n",
    "                                      lower_rcm=train_torch_lower_rcm,\n",
    "                                      label=train_torch_labels)\n",
    "\n",
    "\n",
    "\n",
    "print(len(BS_LS_dataset_base1_combined))"
   ]
  },
  {
   "cell_type": "markdown",
   "id": "7f18c6ce",
   "metadata": {},
   "source": [
    "#### bring in the model weights for base1 combined model on combining set1, 2 and 3"
   ]
  },
  {
   "cell_type": "code",
   "execution_count": 21,
   "id": "613459a0",
   "metadata": {},
   "outputs": [
    {
     "name": "stdout",
     "output_type": "stream",
     "text": [
      "0.8709\n"
     ]
    }
   ],
   "source": [
    "base_model1_combined_8000_path = '/home/wangc90/circRNA/circRNA_Data/model_outputs/Combined_model1_retraining/Combined_model1_retraining_8000/retrained_model_59.pt'\n",
    "\n",
    "base_model1_combined_8000_test_labels, base_model1_combined_8000_preds_prob = Model_eva(model_path=base_model1_combined_8000_path,\n",
    "                                                                    test_data_set=BS_LS_dataset_base1_combined)"
   ]
  },
  {
   "cell_type": "code",
   "execution_count": 22,
   "id": "6d2f30b6",
   "metadata": {},
   "outputs": [
    {
     "name": "stdout",
     "output_type": "stream",
     "text": [
      "0.88\n"
     ]
    }
   ],
   "source": [
    "base_model1_combined_9000_path = '/home/wangc90/circRNA/circRNA_Data/model_outputs/Combined_model1_retraining/Combined_model1_retraining_9000/retrained_model_119.pt'\n",
    "\n",
    "base_model1_combined_9000_test_labels, base_model1_combined_9000_preds_prob = Model_eva(model_path=base_model1_combined_9000_path,\n",
    "                                                                    test_data_set=BS_LS_dataset_base1_combined)"
   ]
  },
  {
   "cell_type": "code",
   "execution_count": 23,
   "id": "c0cadbfe",
   "metadata": {},
   "outputs": [
    {
     "name": "stdout",
     "output_type": "stream",
     "text": [
      "0.8615\n"
     ]
    }
   ],
   "source": [
    "base_model1_combined_10000_path = '/home/wangc90/circRNA/circRNA_Data/model_outputs/Combined_model1_retraining/Combined_model1_retraining_10000/retrained_model_149.pt'\n",
    "\n",
    "base_model1_combined_10000_test_labels, base_model1_combined_10000_preds_prob = Model_eva(model_path=base_model1_combined_10000_path,\n",
    "                                                                    test_data_set=BS_LS_dataset_base1_combined)"
   ]
  },
  {
   "cell_type": "code",
   "execution_count": null,
   "id": "f762ff39",
   "metadata": {},
   "outputs": [],
   "source": []
  },
  {
   "cell_type": "code",
   "execution_count": null,
   "id": "06645345",
   "metadata": {},
   "outputs": [],
   "source": []
  },
  {
   "cell_type": "code",
   "execution_count": 24,
   "id": "9ed711a6",
   "metadata": {},
   "outputs": [],
   "source": [
    "### use the following code to generate the ROC curve \n",
    "from sklearn.metrics import roc_curve\n",
    "import matplotlib.pyplot as plt\n",
    "\n",
    "from torcheval.metrics.functional import binary_f1_score, binary_accuracy, binary_auroc, binary_auprc, \\\n",
    "binary_confusion_matrix,binary_precision, binary_recall,binary_precision_recall_curve\n",
    "\n",
    "from torchmetrics.classification import BinaryMatthewsCorrCoef"
   ]
  },
  {
   "cell_type": "code",
   "execution_count": 25,
   "id": "ef92fef9",
   "metadata": {},
   "outputs": [],
   "source": [
    "def AUC_plot_generation(base_model_test_labels=None, base_model_preds_prob=None,\n",
    "                        RCM_triCNN_test_labels=None, RCM_triCNN_preds_prob=None,\n",
    "                        combined_model_test_labels=None, combined_models_preds_prob=None,\n",
    "                        base_model_label=None,\n",
    "                        RCM_triCNN_model_label=None,\n",
    "                        combined_model_label=None,\n",
    "                        figure_name=None):\n",
    "    \n",
    "    '''\n",
    "        This function is used to generate the AUC plot Base, RCM and the corresponding combined model on\n",
    "        different training set\n",
    "    '''\n",
    "    ### do the base model\n",
    "    if base_model_test_labels != None:\n",
    "        nn_fpr_base_model, nn_tpr_base_model, nn_thresholds_base_model =\\\n",
    "                    roc_curve(base_model_test_labels, base_model_preds_prob)\n",
    "        \n",
    "        auc_base_model = round(binary_auroc(base_model_preds_prob, base_model_test_labels).item(), 4)\n",
    "        \n",
    "        base_model_label = f'{base_model_label}'+ ', AUC=' +str(auc_base_model)\n",
    "        \n",
    "\n",
    "    ### do the rcm model\n",
    "    if RCM_triCNN_test_labels != None:\n",
    "        nn_fpr_RCM_TriCNN, nn_tpr_RCM_TriCNN, nn_thresholds_RCM_TriCNN =\\\n",
    "                    roc_curve(RCM_triCNN_test_labels,RCM_triCNN_preds_prob)\n",
    "        \n",
    "        auc_RCM_TriCNN = round(binary_auroc(RCM_triCNN_preds_prob, RCM_triCNN_test_labels).item(), 4)\n",
    "        \n",
    "        RCM_triCNN_model_label = f'{RCM_triCNN_model_label}'+ ', AUC=' +str(auc_RCM_TriCNN)\n",
    "\n",
    "    ### do the combined model\n",
    "    if combined_model_test_labels != None:\n",
    "        nn_fpr_base_model_combined, nn_tpr_base_model_combined, nn_thresholds_base_model_combined =\\\n",
    "                    roc_curve(combined_model_test_labels,combined_models_preds_prob)\n",
    "        \n",
    "        auc_base_model_combined = round(binary_auroc(combined_models_preds_prob, combined_model_test_labels).item(), 4)\n",
    "        \n",
    "        combined_model_label = f'{combined_model_label}'+ ', AUC=' +str(auc_base_model_combined)\n",
    "        \n",
    "    ## do the random prediction\n",
    "    random_probs = [0 for _ in range(len(base_model_preds_prob))]\n",
    "    random_fpr, random_tpr, _ = roc_curve(base_model_test_labels, random_probs)\n",
    "\n",
    "\n",
    "    ### calculate the AUC value for each model\n",
    "\n",
    "    ## do the plotting \n",
    "\n",
    "    if base_model_test_labels != None:\n",
    "        plt.plot(nn_fpr_base_model, nn_tpr_base_model, label=base_model_label)\n",
    "    \n",
    "    if RCM_triCNN_test_labels != None:\n",
    "        plt.plot(nn_fpr_RCM_TriCNN, nn_tpr_RCM_TriCNN, label=RCM_triCNN_model_label)\n",
    "        \n",
    "    if combined_model_test_labels != None:\n",
    "        plt.plot(nn_fpr_base_model_combined, nn_tpr_base_model_combined, label=combined_model_label)\n",
    "\n",
    "    plt.plot(random_fpr, random_tpr, linestyle='--', label='Random guess,  AUC=0.5000')\n",
    "\n",
    "\n",
    "    plt.ylabel('True Positive Rate')\n",
    "    plt.xlabel('False Positive Rate')\n",
    "\n",
    "    plt.legend()\n",
    "#     plt.show()\n",
    "    plt.savefig(f\"/home/wangc90/circRNA/circRNA_Data/model_outputs/model_comparison/{figure_name}.svg\")"
   ]
  },
  {
   "cell_type": "code",
   "execution_count": 182,
   "id": "b3945f74",
   "metadata": {},
   "outputs": [],
   "source": [
    "### plot the AUC for base1, combined base1 on training set1"
   ]
  },
  {
   "cell_type": "code",
   "execution_count": 27,
   "id": "35c2f9fd",
   "metadata": {},
   "outputs": [
    {
     "data": {
      "image/png": "[encoded data removed]",
      "text/plain": [
       "<Figure size 432x288 with 1 Axes>"
      ]
     },
     "metadata": {
      "needs_background": "light"
     },
     "output_type": "display_data"
    }
   ],
   "source": [
    "AUC_plot_generation(base_model_test_labels=base_model1_8000_test_labels,\n",
    "                    base_model_preds_prob =base_model1_8000_preds_prob,\n",
    "                    RCM_triCNN_test_labels = RCM_TriCNN_8000_test_labels,\n",
    "                    RCM_triCNN_preds_prob = RCM_TriCNN_8000_preds_prob,\n",
    "                    combined_model_test_labels = base_model1_combined_8000_test_labels,\n",
    "                    combined_models_preds_prob = base_model1_combined_8000_preds_prob,\n",
    "                    base_model_label='base 1 training set1',\n",
    "                    RCM_triCNN_model_label='RCM_triCNN training set1',\n",
    "                    combined_model_label = 'combined base1 combining set1',\n",
    "                    figure_name='base1_training_set1')"
   ]
  },
  {
   "cell_type": "code",
   "execution_count": null,
   "id": "cbcf56d1",
   "metadata": {},
   "outputs": [],
   "source": [
    "### plot the AUC for base2, combined base2 on training set1"
   ]
  },
  {
   "cell_type": "code",
   "execution_count": 28,
   "id": "a0873805",
   "metadata": {},
   "outputs": [
    {
     "data": {
      "image/png": "[encoded data removed]",
      "text/plain": [
       "<Figure size 432x288 with 1 Axes>"
      ]
     },
     "metadata": {
      "needs_background": "light"
     },
     "output_type": "display_data"
    }
   ],
   "source": [
    "AUC_plot_generation(base_model_test_labels=base_model2_8000_test_labels,\n",
    "                    base_model_preds_prob =base_model2_8000_preds_prob,\n",
    "                    RCM_triCNN_test_labels = RCM_TriCNN_8000_test_labels,\n",
    "                    RCM_triCNN_preds_prob = RCM_TriCNN_8000_preds_prob,\n",
    "                    combined_model_test_labels = base_model2_combined_8000_test_labels,\n",
    "                    combined_models_preds_prob = base_model2_combined_8000_preds_prob,\n",
    "                    base_model_label='base 2 training set1',\n",
    "                    RCM_triCNN_model_label='RCM_triCNN training set1',\n",
    "                    combined_model_label = 'combined base 2 combining set1',\n",
    "                   figure_name='base2_training_set1')"
   ]
  },
  {
   "cell_type": "code",
   "execution_count": null,
   "id": "b467b999",
   "metadata": {},
   "outputs": [],
   "source": []
  },
  {
   "cell_type": "code",
   "execution_count": null,
   "id": "dffc30fb",
   "metadata": {},
   "outputs": [],
   "source": [
    "### plot the AUC for base1, combined base1 on training set2"
   ]
  },
  {
   "cell_type": "code",
   "execution_count": 29,
   "id": "c912f168",
   "metadata": {},
   "outputs": [
    {
     "data": {
      "image/png": "[encoded data removed]",
      "text/plain": [
       "<Figure size 432x288 with 1 Axes>"
      ]
     },
     "metadata": {
      "needs_background": "light"
     },
     "output_type": "display_data"
    }
   ],
   "source": [
    "AUC_plot_generation(base_model_test_labels=base_model1_9000_test_labels,\n",
    "                    base_model_preds_prob =base_model1_9000_preds_prob,\n",
    "                    RCM_triCNN_test_labels = RCM_TriCNN_9000_test_labels,\n",
    "                    RCM_triCNN_preds_prob = RCM_TriCNN_9000_preds_prob,\n",
    "                    combined_model_test_labels = base_model1_combined_9000_test_labels,\n",
    "                    combined_models_preds_prob = base_model1_combined_9000_preds_prob,\n",
    "                    base_model_label='base 1 training set2',\n",
    "                    RCM_triCNN_model_label='RCM_triCNN training set2',\n",
    "                    combined_model_label = 'combined base 1 combining set2',\n",
    "                    figure_name='base1_training_set2')"
   ]
  },
  {
   "cell_type": "code",
   "execution_count": null,
   "id": "78565649",
   "metadata": {},
   "outputs": [],
   "source": [
    "### plot the AUC for base2, combined base2 on training set2"
   ]
  },
  {
   "cell_type": "code",
   "execution_count": 30,
   "id": "e51beb86",
   "metadata": {},
   "outputs": [
    {
     "data": {
      "image/png": "[encoded data removed]",
      "text/plain": [
       "<Figure size 432x288 with 1 Axes>"
      ]
     },
     "metadata": {
      "needs_background": "light"
     },
     "output_type": "display_data"
    }
   ],
   "source": [
    "AUC_plot_generation(base_model_test_labels=base_model2_9000_test_labels,\n",
    "                    base_model_preds_prob =base_model2_9000_preds_prob,\n",
    "                    RCM_triCNN_test_labels = RCM_TriCNN_9000_test_labels,\n",
    "                    RCM_triCNN_preds_prob = RCM_TriCNN_9000_preds_prob,\n",
    "                    combined_model_test_labels = base_model2_combined_9000_test_labels,\n",
    "                    combined_models_preds_prob = base_model2_combined_9000_preds_prob,\n",
    "                    base_model_label='base 2 training set2',\n",
    "                    RCM_triCNN_model_label='RCM_triCNN training set2',\n",
    "                    combined_model_label = 'combined base 2 combining set2',\n",
    "                    figure_name='base2_training_set2')"
   ]
  },
  {
   "cell_type": "code",
   "execution_count": null,
   "id": "19e75c81",
   "metadata": {},
   "outputs": [],
   "source": []
  },
  {
   "cell_type": "code",
   "execution_count": null,
   "id": "8609cf31",
   "metadata": {},
   "outputs": [],
   "source": [
    "### plot the AUC for base1, combined base1 on training set3"
   ]
  },
  {
   "cell_type": "code",
   "execution_count": 31,
   "id": "fe6a5ed7",
   "metadata": {},
   "outputs": [
    {
     "data": {
      "image/png": "[encoded data removed]",
      "text/plain": [
       "<Figure size 432x288 with 1 Axes>"
      ]
     },
     "metadata": {
      "needs_background": "light"
     },
     "output_type": "display_data"
    }
   ],
   "source": [
    "AUC_plot_generation(base_model_test_labels=base_model1_10000_test_labels,\n",
    "                    base_model_preds_prob =base_model1_10000_preds_prob,\n",
    "                    RCM_triCNN_test_labels = RCM_TriCNN_10000_test_labels,\n",
    "                    RCM_triCNN_preds_prob = RCM_TriCNN_10000_preds_prob,\n",
    "                    combined_model_test_labels = base_model1_combined_10000_test_labels,\n",
    "                    combined_models_preds_prob = base_model1_combined_10000_preds_prob,\n",
    "                    base_model_label='base 1 training set3',\n",
    "                    RCM_triCNN_model_label='RCM_triCNN training set3',\n",
    "                    combined_model_label = 'combined base 1 combining set3',\n",
    "                    figure_name='base1_training_set3')"
   ]
  },
  {
   "cell_type": "code",
   "execution_count": null,
   "id": "97efbe9e",
   "metadata": {},
   "outputs": [],
   "source": [
    "### plot the AUC for base2, combined base2 on training set3"
   ]
  },
  {
   "cell_type": "code",
   "execution_count": 32,
   "id": "4f85b58c",
   "metadata": {},
   "outputs": [
    {
     "data": {
      "image/png": "[encoded data removed]",
      "text/plain": [
       "<Figure size 432x288 with 1 Axes>"
      ]
     },
     "metadata": {
      "needs_background": "light"
     },
     "output_type": "display_data"
    }
   ],
   "source": [
    "AUC_plot_generation(base_model_test_labels=base_model2_10000_test_labels,\n",
    "                    base_model_preds_prob =base_model2_10000_preds_prob,\n",
    "                    RCM_triCNN_test_labels = RCM_TriCNN_10000_test_labels,\n",
    "                    RCM_triCNN_preds_prob = RCM_TriCNN_10000_preds_prob,\n",
    "                    combined_model_test_labels = base_model2_combined_10000_test_labels,\n",
    "                    combined_models_preds_prob = base_model2_combined_10000_preds_prob,\n",
    "                    base_model_label='base 2 training set3',\n",
    "                    RCM_triCNN_model_label='RCM_triCNN training set3',\n",
    "                    combined_model_label = 'combined base 2 combining set3',\n",
    "                    figure_name='base2_training_set3')"
   ]
  },
  {
   "cell_type": "code",
   "execution_count": 33,
   "id": "745e4857",
   "metadata": {},
   "outputs": [],
   "source": [
    "def metric_generation(model_preds_prob, model_test_labels):\n",
    "    '''\n",
    "        This function is used to obtain the ACC, Specificity, Recall, Precision, FPR, FNR, F1\n",
    "        based on the confusion matrix\n",
    "                # P_n P_p\n",
    "            ## N: TN FP\n",
    "            ## P: FN TP\n",
    "    '''\n",
    "    \n",
    "    \n",
    "    confusion_matrix = binary_confusion_matrix(model_preds_prob, model_test_labels, threshold=0.5)\n",
    "    TN, FP, FN, TP = confusion_matrix[0, 0], confusion_matrix[0, 1],\\\n",
    "    confusion_matrix[1, 0], confusion_matrix[1, 1]\n",
    "    \n",
    "    ACC = (TP + TN) / (TP + FN + FP + TN)\n",
    "    \n",
    "    Specificity = TN / (TN + FP)\n",
    "    Recall = TP / (TP + FN)\n",
    "    Precision = TP / (TP + FP)\n",
    "    FPR = FP / (FP + TN)\n",
    "    FNR = FN / (FN + TP)\n",
    "    F1 = 2*(Precision* Recall) / (Precision + Recall)\n",
    "    MCC = (TP*TN - FP*FN)/np.sqrt((TP+FP)*(TP+FN)*(TN+FP)*(TN+FN))\n",
    "    \n",
    "    AUROC = binary_auroc(model_preds_prob, model_test_labels)\n",
    "    AUPRC = binary_auprc(model_preds_prob, model_test_labels)\n",
    "    \n",
    "    metric_dict = {'ACC': round(ACC.item(), 4), 'Specificity': round(Specificity.item(), 4),\n",
    "                   'Recall': round(Recall.item(), 4), 'Precision': round(Precision.item(), 4),\n",
    "                   'FPR': round(FPR.item(), 4), 'FNR': round(FNR.item(), 4), 'F1': round(F1.item(), 4),\n",
    "                   'MCC': round(MCC.item(), 4), 'AUROC': round(AUROC.item(), 4), 'AUPRC': round(AUPRC.item(), 4)}\n",
    "    return metric_dict"
   ]
  },
  {
   "cell_type": "markdown",
   "id": "e4c4d762",
   "metadata": {},
   "source": [
    "### Metrics with training set1"
   ]
  },
  {
   "cell_type": "code",
   "execution_count": 34,
   "id": "86bc158d",
   "metadata": {},
   "outputs": [],
   "source": [
    "base_model1_8000_metrics = metric_generation(model_preds_prob=base_model1_8000_preds_prob, \n",
    "                                             model_test_labels=base_model1_8000_test_labels)\n",
    "base_model1_8000_df = pd.DataFrame.from_dict(base_model1_8000_metrics, orient='index', \n",
    "                                             columns=['base 1 training set1'])"
   ]
  },
  {
   "cell_type": "code",
   "execution_count": 35,
   "id": "3d584e25",
   "metadata": {},
   "outputs": [],
   "source": [
    "RCM_TriCNN_8000_metrics = metric_generation(model_preds_prob=RCM_TriCNN_8000_preds_prob, \n",
    "                                             model_test_labels=RCM_TriCNN_8000_test_labels)\n",
    "RCM_TriCNN_8000_df = pd.DataFrame.from_dict(RCM_TriCNN_8000_metrics, orient='index',\n",
    "                                            columns=['RCM_triCNN training set1'])"
   ]
  },
  {
   "cell_type": "code",
   "execution_count": 36,
   "id": "1d2fd863",
   "metadata": {},
   "outputs": [],
   "source": [
    "base_model1_combined_8000_metrics = metric_generation(model_preds_prob=base_model1_combined_8000_preds_prob, \n",
    "                                             model_test_labels=base_model1_combined_8000_test_labels)\n",
    "\n",
    "base_model1_combined_8000_df = pd.DataFrame.from_dict(base_model1_combined_8000_metrics, orient='index',\n",
    "                                                      columns=['combined base 1 combining set1'])"
   ]
  },
  {
   "cell_type": "code",
   "execution_count": 38,
   "id": "0072f245",
   "metadata": {},
   "outputs": [],
   "source": [
    "base_model2_8000_metrics = metric_generation(model_preds_prob=base_model2_8000_preds_prob, \n",
    "                                             model_test_labels=base_model2_8000_test_labels)\n",
    "\n",
    "base_model2_8000_df = pd.DataFrame.from_dict(base_model2_8000_metrics, orient='index', \n",
    "                                             columns=['base 2 training set1'])"
   ]
  },
  {
   "cell_type": "code",
   "execution_count": 39,
   "id": "9d9058da",
   "metadata": {},
   "outputs": [],
   "source": [
    "base_model2_combined_8000_metrics = metric_generation(model_preds_prob=base_model2_combined_8000_preds_prob, \n",
    "                                             model_test_labels=base_model2_combined_8000_test_labels)\n",
    "\n",
    "base_model2_combined_8000_df = pd.DataFrame.from_dict(base_model2_combined_8000_metrics, orient='index', \n",
    "                                                      columns=['combined base 2 combining set1'])"
   ]
  },
  {
   "cell_type": "markdown",
   "id": "30045729",
   "metadata": {},
   "source": [
    "### Metrics with training set2"
   ]
  },
  {
   "cell_type": "code",
   "execution_count": 40,
   "id": "ba7aeb75",
   "metadata": {},
   "outputs": [],
   "source": [
    "base_model1_9000_metrics = metric_generation(model_preds_prob=base_model1_9000_preds_prob, \n",
    "                                             model_test_labels=base_model1_9000_test_labels)\n",
    "\n",
    "base_model1_9000_df = pd.DataFrame.from_dict(base_model1_9000_metrics, orient='index', \n",
    "                                             columns=['base 1 training set2'])"
   ]
  },
  {
   "cell_type": "code",
   "execution_count": 41,
   "id": "a1302284",
   "metadata": {},
   "outputs": [],
   "source": [
    "RCM_TriCNN_9000_metrics = metric_generation(model_preds_prob=RCM_TriCNN_9000_preds_prob, \n",
    "                                             model_test_labels=RCM_TriCNN_9000_test_labels)\n",
    "RCM_TriCNN_9000_df = pd.DataFrame.from_dict(RCM_TriCNN_9000_metrics, orient='index',\n",
    "                                            columns=['RCM_triCNN training set2'])"
   ]
  },
  {
   "cell_type": "code",
   "execution_count": 42,
   "id": "a5bae30d",
   "metadata": {},
   "outputs": [],
   "source": [
    "base_model1_combined_9000_metrics = metric_generation(model_preds_prob=base_model1_combined_9000_preds_prob, \n",
    "                                             model_test_labels=base_model1_combined_9000_test_labels)\n",
    "\n",
    "base_model1_combined_9000_df = pd.DataFrame.from_dict(base_model1_combined_9000_metrics, orient='index',\n",
    "                                                      columns=['combined base 1 combining set2'])"
   ]
  },
  {
   "cell_type": "code",
   "execution_count": 43,
   "id": "02480a81",
   "metadata": {},
   "outputs": [],
   "source": [
    "base_model2_9000_metrics = metric_generation(model_preds_prob=base_model2_9000_preds_prob, \n",
    "                                             model_test_labels=base_model2_9000_test_labels)\n",
    "\n",
    "base_model2_9000_df = pd.DataFrame.from_dict(base_model2_9000_metrics, orient='index',\n",
    "                                             columns=['base 2 training set2'])"
   ]
  },
  {
   "cell_type": "code",
   "execution_count": 44,
   "id": "46e1e7d0",
   "metadata": {},
   "outputs": [],
   "source": [
    "base_model2_combined_9000_metrics = metric_generation(model_preds_prob=base_model2_combined_9000_preds_prob, \n",
    "                                             model_test_labels=base_model2_combined_9000_test_labels)\n",
    "\n",
    "base_model2_combined_9000_df = pd.DataFrame.from_dict(base_model2_combined_9000_metrics, orient='index', \n",
    "                                                      columns=['combined base 2 combining set2'])"
   ]
  },
  {
   "cell_type": "markdown",
   "id": "36d4c3ef",
   "metadata": {},
   "source": [
    "### Metrics with training set3"
   ]
  },
  {
   "cell_type": "code",
   "execution_count": 45,
   "id": "dafa4595",
   "metadata": {},
   "outputs": [],
   "source": [
    "base_model1_10000_metrics = metric_generation(model_preds_prob=base_model1_10000_preds_prob, \n",
    "                                             model_test_labels=base_model1_10000_test_labels)\n",
    "\n",
    "base_model1_10000_df = pd.DataFrame.from_dict(base_model1_10000_metrics,\n",
    "                                              orient='index', columns=['base 1 training set3'])"
   ]
  },
  {
   "cell_type": "code",
   "execution_count": 46,
   "id": "7ecaf5a2",
   "metadata": {},
   "outputs": [],
   "source": [
    "RCM_TriCNN_10000_metrics = metric_generation(model_preds_prob=RCM_TriCNN_10000_preds_prob, \n",
    "                                             model_test_labels=RCM_TriCNN_10000_test_labels)\n",
    "\n",
    "RCM_TriCNN_10000_df = pd.DataFrame.from_dict(RCM_TriCNN_10000_metrics, orient='index',\n",
    "                                            columns=['RCM_triCNN training set3'])"
   ]
  },
  {
   "cell_type": "code",
   "execution_count": 47,
   "id": "aec62272",
   "metadata": {},
   "outputs": [],
   "source": [
    "base_model1_combined_10000_metrics = metric_generation(model_preds_prob=base_model1_combined_10000_preds_prob, \n",
    "                                             model_test_labels=base_model1_combined_10000_test_labels)\n",
    "\n",
    "base_model1_combined_10000_df = pd.DataFrame.from_dict(base_model1_combined_10000_metrics, orient='index',\n",
    "                                                      columns=['combined base 1 combining set3'])"
   ]
  },
  {
   "cell_type": "code",
   "execution_count": 48,
   "id": "3e6efd76",
   "metadata": {},
   "outputs": [],
   "source": [
    "base_model2_10000_metrics = metric_generation(model_preds_prob=base_model2_10000_preds_prob, \n",
    "                                             model_test_labels=base_model2_10000_test_labels)\n",
    "\n",
    "base_model2_10000_df = pd.DataFrame.from_dict(base_model2_10000_metrics, orient='index',\n",
    "                                             columns=['base 2 training set3'])"
   ]
  },
  {
   "cell_type": "code",
   "execution_count": 49,
   "id": "82d1be87",
   "metadata": {},
   "outputs": [],
   "source": [
    "base_model2_combined_10000_metrics = metric_generation(model_preds_prob=base_model2_combined_10000_preds_prob, \n",
    "                                             model_test_labels=base_model2_combined_10000_test_labels)\n",
    "\n",
    "base_model2_combined_10000_df = pd.DataFrame.from_dict(base_model2_combined_10000_metrics, orient='index',\n",
    "                                                      columns=['combined base 2 combining set3'])"
   ]
  },
  {
   "cell_type": "code",
   "execution_count": 50,
   "id": "0d706a33",
   "metadata": {},
   "outputs": [],
   "source": [
    "model_metrics_df = pd.concat([base_model1_8000_df, RCM_TriCNN_8000_df, base_model1_combined_8000_df, base_model2_8000_df, base_model2_combined_8000_df,\n",
    "           base_model1_9000_df, RCM_TriCNN_9000_df, base_model1_combined_9000_df, base_model2_9000_df, base_model2_combined_9000_df,\n",
    "           base_model1_10000_df, RCM_TriCNN_10000_df, base_model1_combined_10000_df, base_model2_10000_df, base_model2_combined_10000_df], axis=1)"
   ]
  },
  {
   "cell_type": "code",
   "execution_count": 51,
   "id": "07842cf0",
   "metadata": {},
   "outputs": [],
   "source": [
    "model_metrics_df.transpose().to_csv('/home/wangc90/circRNA/circRNA_Data/model_outputs/model_comparison/model_metrics.csv',\n",
    "                                    sep=',')"
   ]
  },
  {
   "cell_type": "code",
   "execution_count": 53,
   "id": "fa93c382",
   "metadata": {},
   "outputs": [
    {
     "data": {
      "text/html": [
       "<div>\n",
       "<style scoped>\n",
       "    .dataframe tbody tr th:only-of-type {\n",
       "        vertical-align: middle;\n",
       "    }\n",
       "\n",
       "    .dataframe tbody tr th {\n",
       "        vertical-align: top;\n",
       "    }\n",
       "\n",
       "    .dataframe thead th {\n",
       "        text-align: right;\n",
       "    }\n",
       "</style>\n",
       "<table border=\"1\" class=\"dataframe\">\n",
       "  <thead>\n",
       "    <tr style=\"text-align: right;\">\n",
       "      <th></th>\n",
       "      <th>ACC</th>\n",
       "      <th>Specificity</th>\n",
       "      <th>Recall</th>\n",
       "      <th>Precision</th>\n",
       "      <th>FPR</th>\n",
       "      <th>FNR</th>\n",
       "      <th>F1</th>\n",
       "      <th>MCC</th>\n",
       "      <th>AUROC</th>\n",
       "      <th>AUPRC</th>\n",
       "    </tr>\n",
       "  </thead>\n",
       "  <tbody>\n",
       "    <tr>\n",
       "      <th>base 1 training set1</th>\n",
       "      <td>0.8718</td>\n",
       "      <td>0.9406</td>\n",
       "      <td>0.8027</td>\n",
       "      <td>0.9307</td>\n",
       "      <td>0.0594</td>\n",
       "      <td>0.1973</td>\n",
       "      <td>0.8620</td>\n",
       "      <td>0.7507</td>\n",
       "      <td>0.9178</td>\n",
       "      <td>0.9362</td>\n",
       "    </tr>\n",
       "    <tr>\n",
       "      <th>RCM_triCNN training set1</th>\n",
       "      <td>0.6697</td>\n",
       "      <td>0.6535</td>\n",
       "      <td>0.6860</td>\n",
       "      <td>0.6632</td>\n",
       "      <td>0.3465</td>\n",
       "      <td>0.3140</td>\n",
       "      <td>0.6744</td>\n",
       "      <td>0.3396</td>\n",
       "      <td>0.7263</td>\n",
       "      <td>0.7265</td>\n",
       "    </tr>\n",
       "    <tr>\n",
       "      <th>combined base 1 combining set1</th>\n",
       "      <td>0.8709</td>\n",
       "      <td>0.9442</td>\n",
       "      <td>0.7973</td>\n",
       "      <td>0.9343</td>\n",
       "      <td>0.0558</td>\n",
       "      <td>0.2027</td>\n",
       "      <td>0.8604</td>\n",
       "      <td>0.7498</td>\n",
       "      <td>0.9100</td>\n",
       "      <td>0.9205</td>\n",
       "    </tr>\n",
       "    <tr>\n",
       "      <th>base 2 training set1</th>\n",
       "      <td>0.8714</td>\n",
       "      <td>0.9541</td>\n",
       "      <td>0.7882</td>\n",
       "      <td>0.9447</td>\n",
       "      <td>0.0459</td>\n",
       "      <td>0.2118</td>\n",
       "      <td>0.8594</td>\n",
       "      <td>0.7530</td>\n",
       "      <td>0.9171</td>\n",
       "      <td>0.9381</td>\n",
       "    </tr>\n",
       "    <tr>\n",
       "      <th>combined base 2 combining set1</th>\n",
       "      <td>0.8764</td>\n",
       "      <td>0.9505</td>\n",
       "      <td>0.8018</td>\n",
       "      <td>0.9416</td>\n",
       "      <td>0.0495</td>\n",
       "      <td>0.1982</td>\n",
       "      <td>0.8661</td>\n",
       "      <td>0.7610</td>\n",
       "      <td>0.9191</td>\n",
       "      <td>0.9377</td>\n",
       "    </tr>\n",
       "    <tr>\n",
       "      <th>base 1 training set2</th>\n",
       "      <td>0.8678</td>\n",
       "      <td>0.9316</td>\n",
       "      <td>0.8036</td>\n",
       "      <td>0.9212</td>\n",
       "      <td>0.0684</td>\n",
       "      <td>0.1964</td>\n",
       "      <td>0.8584</td>\n",
       "      <td>0.7415</td>\n",
       "      <td>0.9176</td>\n",
       "      <td>0.9398</td>\n",
       "    </tr>\n",
       "    <tr>\n",
       "      <th>RCM_triCNN training set2</th>\n",
       "      <td>0.6873</td>\n",
       "      <td>0.6949</td>\n",
       "      <td>0.6796</td>\n",
       "      <td>0.6890</td>\n",
       "      <td>0.3051</td>\n",
       "      <td>0.3204</td>\n",
       "      <td>0.6843</td>\n",
       "      <td>0.3746</td>\n",
       "      <td>0.7456</td>\n",
       "      <td>0.7565</td>\n",
       "    </tr>\n",
       "    <tr>\n",
       "      <th>combined base 1 combining set2</th>\n",
       "      <td>0.8800</td>\n",
       "      <td>0.9658</td>\n",
       "      <td>0.7937</td>\n",
       "      <td>0.9585</td>\n",
       "      <td>0.0342</td>\n",
       "      <td>0.2063</td>\n",
       "      <td>0.8683</td>\n",
       "      <td>0.7712</td>\n",
       "      <td>0.9251</td>\n",
       "      <td>0.9462</td>\n",
       "    </tr>\n",
       "    <tr>\n",
       "      <th>base 2 training set2</th>\n",
       "      <td>0.8750</td>\n",
       "      <td>0.8974</td>\n",
       "      <td>0.8525</td>\n",
       "      <td>0.8920</td>\n",
       "      <td>0.1026</td>\n",
       "      <td>0.1475</td>\n",
       "      <td>0.8718</td>\n",
       "      <td>0.7507</td>\n",
       "      <td>0.9231</td>\n",
       "      <td>0.9436</td>\n",
       "    </tr>\n",
       "    <tr>\n",
       "      <th>combined base 2 combining set2</th>\n",
       "      <td>0.8813</td>\n",
       "      <td>0.9451</td>\n",
       "      <td>0.8172</td>\n",
       "      <td>0.9367</td>\n",
       "      <td>0.0549</td>\n",
       "      <td>0.1828</td>\n",
       "      <td>0.8729</td>\n",
       "      <td>0.7688</td>\n",
       "      <td>0.9188</td>\n",
       "      <td>0.9403</td>\n",
       "    </tr>\n",
       "    <tr>\n",
       "      <th>base 1 training set3</th>\n",
       "      <td>0.8673</td>\n",
       "      <td>0.9253</td>\n",
       "      <td>0.8090</td>\n",
       "      <td>0.9150</td>\n",
       "      <td>0.0747</td>\n",
       "      <td>0.1910</td>\n",
       "      <td>0.8588</td>\n",
       "      <td>0.7395</td>\n",
       "      <td>0.9187</td>\n",
       "      <td>0.9269</td>\n",
       "    </tr>\n",
       "    <tr>\n",
       "      <th>RCM_triCNN training set3</th>\n",
       "      <td>0.6958</td>\n",
       "      <td>0.6967</td>\n",
       "      <td>0.6950</td>\n",
       "      <td>0.6950</td>\n",
       "      <td>0.3033</td>\n",
       "      <td>0.3050</td>\n",
       "      <td>0.6950</td>\n",
       "      <td>0.3917</td>\n",
       "      <td>0.7617</td>\n",
       "      <td>0.7564</td>\n",
       "    </tr>\n",
       "    <tr>\n",
       "      <th>combined base 1 combining set3</th>\n",
       "      <td>0.8615</td>\n",
       "      <td>0.9154</td>\n",
       "      <td>0.8072</td>\n",
       "      <td>0.9047</td>\n",
       "      <td>0.0846</td>\n",
       "      <td>0.1928</td>\n",
       "      <td>0.8532</td>\n",
       "      <td>0.7270</td>\n",
       "      <td>0.9171</td>\n",
       "      <td>0.9395</td>\n",
       "    </tr>\n",
       "    <tr>\n",
       "      <th>base 2 training set3</th>\n",
       "      <td>0.8709</td>\n",
       "      <td>0.9289</td>\n",
       "      <td>0.8127</td>\n",
       "      <td>0.9191</td>\n",
       "      <td>0.0711</td>\n",
       "      <td>0.1873</td>\n",
       "      <td>0.8626</td>\n",
       "      <td>0.7468</td>\n",
       "      <td>0.9159</td>\n",
       "      <td>0.9287</td>\n",
       "    </tr>\n",
       "    <tr>\n",
       "      <th>combined base 2 combining set3</th>\n",
       "      <td>0.8745</td>\n",
       "      <td>0.9334</td>\n",
       "      <td>0.8154</td>\n",
       "      <td>0.9241</td>\n",
       "      <td>0.0666</td>\n",
       "      <td>0.1846</td>\n",
       "      <td>0.8663</td>\n",
       "      <td>0.7542</td>\n",
       "      <td>0.9180</td>\n",
       "      <td>0.9295</td>\n",
       "    </tr>\n",
       "  </tbody>\n",
       "</table>\n",
       "</div>"
      ],
      "text/plain": [
       "                                   ACC  Specificity  Recall  Precision  \\\n",
       "base 1 training set1            0.8718       0.9406  0.8027     0.9307   \n",
       "RCM_triCNN training set1        0.6697       0.6535  0.6860     0.6632   \n",
       "combined base 1 combining set1  0.8709       0.9442  0.7973     0.9343   \n",
       "base 2 training set1            0.8714       0.9541  0.7882     0.9447   \n",
       "combined base 2 combining set1  0.8764       0.9505  0.8018     0.9416   \n",
       "base 1 training set2            0.8678       0.9316  0.8036     0.9212   \n",
       "RCM_triCNN training set2        0.6873       0.6949  0.6796     0.6890   \n",
       "combined base 1 combining set2  0.8800       0.9658  0.7937     0.9585   \n",
       "base 2 training set2            0.8750       0.8974  0.8525     0.8920   \n",
       "combined base 2 combining set2  0.8813       0.9451  0.8172     0.9367   \n",
       "base 1 training set3            0.8673       0.9253  0.8090     0.9150   \n",
       "RCM_triCNN training set3        0.6958       0.6967  0.6950     0.6950   \n",
       "combined base 1 combining set3  0.8615       0.9154  0.8072     0.9047   \n",
       "base 2 training set3            0.8709       0.9289  0.8127     0.9191   \n",
       "combined base 2 combining set3  0.8745       0.9334  0.8154     0.9241   \n",
       "\n",
       "                                   FPR     FNR      F1     MCC   AUROC   AUPRC  \n",
       "base 1 training set1            0.0594  0.1973  0.8620  0.7507  0.9178  0.9362  \n",
       "RCM_triCNN training set1        0.3465  0.3140  0.6744  0.3396  0.7263  0.7265  \n",
       "combined base 1 combining set1  0.0558  0.2027  0.8604  0.7498  0.9100  0.9205  \n",
       "base 2 training set1            0.0459  0.2118  0.8594  0.7530  0.9171  0.9381  \n",
       "combined base 2 combining set1  0.0495  0.1982  0.8661  0.7610  0.9191  0.9377  \n",
       "base 1 training set2            0.0684  0.1964  0.8584  0.7415  0.9176  0.9398  \n",
       "RCM_triCNN training set2        0.3051  0.3204  0.6843  0.3746  0.7456  0.7565  \n",
       "combined base 1 combining set2  0.0342  0.2063  0.8683  0.7712  0.9251  0.9462  \n",
       "base 2 training set2            0.1026  0.1475  0.8718  0.7507  0.9231  0.9436  \n",
       "combined base 2 combining set2  0.0549  0.1828  0.8729  0.7688  0.9188  0.9403  \n",
       "base 1 training set3            0.0747  0.1910  0.8588  0.7395  0.9187  0.9269  \n",
       "RCM_triCNN training set3        0.3033  0.3050  0.6950  0.3917  0.7617  0.7564  \n",
       "combined base 1 combining set3  0.0846  0.1928  0.8532  0.7270  0.9171  0.9395  \n",
       "base 2 training set3            0.0711  0.1873  0.8626  0.7468  0.9159  0.9287  \n",
       "combined base 2 combining set3  0.0666  0.1846  0.8663  0.7542  0.9180  0.9295  "
      ]
     },
     "execution_count": 53,
     "metadata": {},
     "output_type": "execute_result"
    }
   ],
   "source": [
    "model_metrics_df.transpose()"
   ]
  },
  {
   "cell_type": "code",
   "execution_count": null,
   "id": "836b3af4",
   "metadata": {},
   "outputs": [],
   "source": []
  }
 ],
 "metadata": {
  "kernelspec": {
   "display_name": "Python 3 (ipykernel)",
   "language": "python",
   "name": "python3"
  },
  "language_info": {
   "codemirror_mode": {
    "name": "ipython",
    "version": 3
   },
   "file_extension": ".py",
   "mimetype": "text/x-python",
   "name": "python",
   "nbconvert_exporter": "python",
   "pygments_lexer": "ipython3",
   "version": "3.9.10"
  }
 },
 "nbformat": 4,
 "nbformat_minor": 5
}
